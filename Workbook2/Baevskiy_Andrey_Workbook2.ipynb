{
 "cells": [
  {
   "cell_type": "code",
   "execution_count": 1,
   "id": "initial_id",
   "metadata": {
    "collapsed": true,
    "ExecuteTime": {
     "end_time": "2024-03-15T13:13:59.731799Z",
     "start_time": "2024-03-15T13:13:59.727738200Z"
    }
   },
   "outputs": [],
   "source": [
    "import numpy as np\n",
    "import pandas as pd"
   ]
  },
  {
   "cell_type": "markdown",
   "source": [
    "№ 1.3.1.\n",
    "Создать 8x8 матрицу и заполнить её в шахматном порядке нулями и\n",
    "единицами"
   ],
   "metadata": {
    "collapsed": false
   },
   "id": "38b9b403392fa4a6"
  },
  {
   "cell_type": "code",
   "execution_count": 2,
   "outputs": [
    {
     "data": {
      "text/plain": "matrix([[1, 0, 1, 0, 1, 0, 1, 0],\n        [0, 1, 0, 1, 0, 1, 0, 1],\n        [1, 0, 1, 0, 1, 0, 1, 0],\n        [0, 1, 0, 1, 0, 1, 0, 1],\n        [1, 0, 1, 0, 1, 0, 1, 0],\n        [0, 1, 0, 1, 0, 1, 0, 1],\n        [1, 0, 1, 0, 1, 0, 1, 0],\n        [0, 1, 0, 1, 0, 1, 0, 1]])"
     },
     "execution_count": 2,
     "metadata": {},
     "output_type": "execute_result"
    }
   ],
   "source": [
    "matrix = np.matrix(np.zeros((8, 8), dtype=int))\n",
    "matrix[::2, ::2] = 1\n",
    "matrix[1::2, 1::2] = 1\n",
    "matrix"
   ],
   "metadata": {
    "collapsed": false,
    "ExecuteTime": {
     "end_time": "2024-03-15T13:13:59.758679400Z",
     "start_time": "2024-03-15T13:13:59.733904Z"
    }
   },
   "id": "20660b2e573a965f"
  },
  {
   "cell_type": "markdown",
   "source": [
    "№ 1.3.2\n",
    "Создать 5x5 матрицу со значениями в строках от 0 до 4. Для создания\n",
    "необходимо использовать функцию arange."
   ],
   "metadata": {
    "collapsed": false
   },
   "id": "582246086b9db6bb"
  },
  {
   "cell_type": "code",
   "execution_count": 3,
   "outputs": [
    {
     "data": {
      "text/plain": "matrix([[0, 1, 2, 3, 4],\n        [0, 1, 2, 3, 4],\n        [0, 1, 2, 3, 4],\n        [0, 1, 2, 3, 4],\n        [0, 1, 2, 3, 4]])"
     },
     "execution_count": 3,
     "metadata": {},
     "output_type": "execute_result"
    }
   ],
   "source": [
    "matrix = np.matrix([np.arange(0, 5) for _ in range(5)])\n",
    "matrix"
   ],
   "metadata": {
    "collapsed": false,
    "ExecuteTime": {
     "end_time": "2024-03-15T13:13:59.758679400Z",
     "start_time": "2024-03-15T13:13:59.753605300Z"
    }
   },
   "id": "8627cbbb2b4eff85"
  },
  {
   "cell_type": "markdown",
   "source": [
    "№ 1.3.3\n",
    "Создать массив 3x3x3 со случайными значениями."
   ],
   "metadata": {
    "collapsed": false
   },
   "id": "ecc0994a29cbc8dc"
  },
  {
   "cell_type": "code",
   "execution_count": 4,
   "outputs": [
    {
     "data": {
      "text/plain": "array([[[68, 54, 49],\n        [82, 15, 42],\n        [45, 46, 65]],\n\n       [[44, 73, 57],\n        [40, 91, 94],\n        [48, 88, 17]],\n\n       [[57, 98, 12],\n        [44, 69,  2],\n        [31, 67, 39]]])"
     },
     "execution_count": 4,
     "metadata": {},
     "output_type": "execute_result"
    }
   ],
   "source": [
    "arr = np.random.randint(100, size=27).reshape(3, 3, 3)\n",
    "arr"
   ],
   "metadata": {
    "collapsed": false,
    "ExecuteTime": {
     "end_time": "2024-03-15T13:13:59.870690400Z",
     "start_time": "2024-03-15T13:13:59.759682700Z"
    }
   },
   "id": "ba720ede371e8402"
  },
  {
   "cell_type": "markdown",
   "source": [
    "№ 1.3.4\n",
    "Создать матрицу с 0 внутри, и 1 на границах."
   ],
   "metadata": {
    "collapsed": false
   },
   "id": "ad85f236d8169789"
  },
  {
   "cell_type": "code",
   "execution_count": 5,
   "outputs": [
    {
     "data": {
      "text/plain": "matrix([[1, 1, 1, 1, 1],\n        [1, 0, 0, 0, 1],\n        [1, 0, 0, 0, 1],\n        [1, 0, 0, 0, 1],\n        [1, 1, 1, 1, 1]])"
     },
     "execution_count": 5,
     "metadata": {},
     "output_type": "execute_result"
    }
   ],
   "source": [
    "n = 10\n",
    "matrix = np.matrix(np.zeros((5, 5), dtype=int))\n",
    "matrix[0, :] = 1\n",
    "matrix[-1, :] = 1\n",
    "matrix[:, 0] = 1\n",
    "matrix[:, -1] = 1\n",
    "matrix"
   ],
   "metadata": {
    "collapsed": false,
    "ExecuteTime": {
     "end_time": "2024-03-15T13:13:59.871693500Z",
     "start_time": "2024-03-15T13:13:59.770421700Z"
    }
   },
   "id": "2d33df6ec0b7aff0"
  },
  {
   "cell_type": "markdown",
   "source": [
    "№ 1.3.5\n",
    "Создайте массив и отсортируйте его по убыванию."
   ],
   "metadata": {
    "collapsed": false
   },
   "id": "a86578bf3af75b2b"
  },
  {
   "cell_type": "code",
   "execution_count": 6,
   "outputs": [
    {
     "name": "stdout",
     "output_type": "stream",
     "text": [
      "[29.7177723  31.50108894 32.57769568 37.42312934 49.25524575 50.64629934\n",
      " 57.05740667 69.37180135 81.40682381 93.94056271]\n"
     ]
    }
   ],
   "source": [
    "arr = np.random.uniform(high=100, size=10)\n",
    "arr.sort()\n",
    "print(arr)"
   ],
   "metadata": {
    "collapsed": false,
    "ExecuteTime": {
     "end_time": "2024-03-15T13:13:59.874694300Z",
     "start_time": "2024-03-15T13:13:59.782704500Z"
    }
   },
   "id": "66c35a8b4f160775"
  },
  {
   "cell_type": "markdown",
   "source": [
    "№ 1.3.6\n",
    "Создайте матрицу, выведите ее форму, размер и размерность."
   ],
   "metadata": {
    "collapsed": false
   },
   "id": "da14cbed52587a93"
  },
  {
   "cell_type": "code",
   "execution_count": 7,
   "outputs": [
    {
     "name": "stdout",
     "output_type": "stream",
     "text": [
      "Форма: (10, 10), Размер: 100, Размерность: 2\n"
     ]
    }
   ],
   "source": [
    "matrix = np.matrix(np.random.rand(10, 10))\n",
    "print(f'Форма: {matrix.shape}, '\n",
    "      f'Размер: {matrix.size}, '\n",
    "      f'Размерность: {matrix.ndim}')"
   ],
   "metadata": {
    "collapsed": false,
    "ExecuteTime": {
     "end_time": "2024-03-15T13:13:59.875694Z",
     "start_time": "2024-03-15T13:13:59.794652900Z"
    }
   },
   "id": "3aa7afc3b7626f85"
  },
  {
   "cell_type": "markdown",
   "source": [
    "№ 2.3.1\n",
    "Найдите евклидово расстояние между двумя Series (точками) a и b, не\n",
    "используя встроенную формулу."
   ],
   "metadata": {
    "collapsed": false
   },
   "id": "5b2c4a76458b08fc"
  },
  {
   "cell_type": "code",
   "execution_count": 8,
   "outputs": [
    {
     "name": "stdout",
     "output_type": "stream",
     "text": [
      "Евклидово расстояние от (4, 4, 4) до (10, 10, 10): 10.39\n"
     ]
    }
   ],
   "source": [
    "point1 = pd.Series([4, 4, 4])\n",
    "point2 = pd.Series([10, 10, 10])\n",
    "print(f'Евклидово расстояние от (4, 4, 4) до (10, 10, 10):'\n",
    "      f' {round((sum((point1 - point2) ** 2)) ** 0.5, 2)}')"
   ],
   "metadata": {
    "collapsed": false,
    "ExecuteTime": {
     "end_time": "2024-03-15T13:13:59.906712700Z",
     "start_time": "2024-03-15T13:13:59.801238700Z"
    }
   },
   "id": "62c64882853f2b1e"
  },
  {
   "cell_type": "markdown",
   "source": [
    "№ 2.3.2\n",
    "Найдите в Интернете ссылку на любой csv файл и сформируйте из него\n",
    "фрейм данных (например, коллекцию фреймов данных можно найти\n",
    "здесь: https://github.com/akmand/datasets)."
   ],
   "metadata": {
    "collapsed": false
   },
   "id": "fb2e09f0de4476a7"
  },
  {
   "cell_type": "code",
   "execution_count": 9,
   "outputs": [],
   "source": [
    "url = \"https://raw.githubusercontent.com/akmand/datasets/main/baby_names_2000.csv\"\n",
    "data = pd.read_csv(url)"
   ],
   "metadata": {
    "collapsed": false,
    "ExecuteTime": {
     "end_time": "2024-03-15T13:14:05.973731100Z",
     "start_time": "2024-03-15T13:13:59.811597200Z"
    }
   },
   "id": "e676fefda7c311e5"
  },
  {
   "cell_type": "markdown",
   "source": [
    "№2.3.3\n",
    "Проделайте с получившемся из предыдущего задания фреймом данных\n",
    "те же действия, что и в примерах 2.2.5-2.2.7."
   ],
   "metadata": {
    "collapsed": false
   },
   "id": "7ed3f63bae7b4a8a"
  },
  {
   "cell_type": "markdown",
   "source": [
    "№2.2.5\n",
    "Проанализировать характеристики фрейма данных."
   ],
   "metadata": {
    "collapsed": false
   },
   "id": "9bdcaad90e7c7722"
  },
  {
   "cell_type": "code",
   "execution_count": 10,
   "outputs": [
    {
     "data": {
      "text/plain": "   year     name gender  count\n0  2000    Emily      F  25956\n1  2000   Hannah      F  23082\n2  2000  Madison      F  19968\n3  2000   Ashley      F  17997\n4  2000    Sarah      F  17702",
      "text/html": "<div>\n<style scoped>\n    .dataframe tbody tr th:only-of-type {\n        vertical-align: middle;\n    }\n\n    .dataframe tbody tr th {\n        vertical-align: top;\n    }\n\n    .dataframe thead th {\n        text-align: right;\n    }\n</style>\n<table border=\"1\" class=\"dataframe\">\n  <thead>\n    <tr style=\"text-align: right;\">\n      <th></th>\n      <th>year</th>\n      <th>name</th>\n      <th>gender</th>\n      <th>count</th>\n    </tr>\n  </thead>\n  <tbody>\n    <tr>\n      <th>0</th>\n      <td>2000</td>\n      <td>Emily</td>\n      <td>F</td>\n      <td>25956</td>\n    </tr>\n    <tr>\n      <th>1</th>\n      <td>2000</td>\n      <td>Hannah</td>\n      <td>F</td>\n      <td>23082</td>\n    </tr>\n    <tr>\n      <th>2</th>\n      <td>2000</td>\n      <td>Madison</td>\n      <td>F</td>\n      <td>19968</td>\n    </tr>\n    <tr>\n      <th>3</th>\n      <td>2000</td>\n      <td>Ashley</td>\n      <td>F</td>\n      <td>17997</td>\n    </tr>\n    <tr>\n      <th>4</th>\n      <td>2000</td>\n      <td>Sarah</td>\n      <td>F</td>\n      <td>17702</td>\n    </tr>\n  </tbody>\n</table>\n</div>"
     },
     "execution_count": 10,
     "metadata": {},
     "output_type": "execute_result"
    }
   ],
   "source": [
    "data.head(5)"
   ],
   "metadata": {
    "collapsed": false,
    "ExecuteTime": {
     "end_time": "2024-03-15T13:14:05.998468800Z",
     "start_time": "2024-03-15T13:14:05.976729200Z"
    }
   },
   "id": "4d234a7898c4520f"
  },
  {
   "cell_type": "code",
   "execution_count": 11,
   "outputs": [
    {
     "data": {
      "text/plain": "        year   name gender  count\n624231  2018  Zylas      M      5\n624232  2018  Zyran      M      5\n624233  2018  Zyrie      M      5\n624234  2018  Zyron      M      5\n624235  2018  Zzyzx      M      5",
      "text/html": "<div>\n<style scoped>\n    .dataframe tbody tr th:only-of-type {\n        vertical-align: middle;\n    }\n\n    .dataframe tbody tr th {\n        vertical-align: top;\n    }\n\n    .dataframe thead th {\n        text-align: right;\n    }\n</style>\n<table border=\"1\" class=\"dataframe\">\n  <thead>\n    <tr style=\"text-align: right;\">\n      <th></th>\n      <th>year</th>\n      <th>name</th>\n      <th>gender</th>\n      <th>count</th>\n    </tr>\n  </thead>\n  <tbody>\n    <tr>\n      <th>624231</th>\n      <td>2018</td>\n      <td>Zylas</td>\n      <td>M</td>\n      <td>5</td>\n    </tr>\n    <tr>\n      <th>624232</th>\n      <td>2018</td>\n      <td>Zyran</td>\n      <td>M</td>\n      <td>5</td>\n    </tr>\n    <tr>\n      <th>624233</th>\n      <td>2018</td>\n      <td>Zyrie</td>\n      <td>M</td>\n      <td>5</td>\n    </tr>\n    <tr>\n      <th>624234</th>\n      <td>2018</td>\n      <td>Zyron</td>\n      <td>M</td>\n      <td>5</td>\n    </tr>\n    <tr>\n      <th>624235</th>\n      <td>2018</td>\n      <td>Zzyzx</td>\n      <td>M</td>\n      <td>5</td>\n    </tr>\n  </tbody>\n</table>\n</div>"
     },
     "execution_count": 11,
     "metadata": {},
     "output_type": "execute_result"
    }
   ],
   "source": [
    "data.tail(5)"
   ],
   "metadata": {
    "collapsed": false,
    "ExecuteTime": {
     "end_time": "2024-03-15T13:14:06.029475700Z",
     "start_time": "2024-03-15T13:14:05.996374500Z"
    }
   },
   "id": "3c46d2d12e4fca30"
  },
  {
   "cell_type": "code",
   "execution_count": 12,
   "outputs": [
    {
     "data": {
      "text/plain": "count    624236.000000\nmean       2009.115961\nstd           5.383550\nmin        2000.000000\n25%        2005.000000\n50%        2009.000000\n75%        2014.000000\nmax        2018.000000\nName: year, dtype: float64"
     },
     "execution_count": 12,
     "metadata": {},
     "output_type": "execute_result"
    }
   ],
   "source": [
    "data.year.describe() # Описание столбца year"
   ],
   "metadata": {
    "collapsed": false,
    "ExecuteTime": {
     "end_time": "2024-03-15T13:14:06.131699600Z",
     "start_time": "2024-03-15T13:14:06.010611500Z"
    }
   },
   "id": "a00e714fac705208"
  },
  {
   "cell_type": "code",
   "execution_count": 13,
   "outputs": [
    {
     "data": {
      "text/plain": "count     624236\nunique     68265\ntop        Emily\nfreq          38\nName: name, dtype: object"
     },
     "execution_count": 13,
     "metadata": {},
     "output_type": "execute_result"
    }
   ],
   "source": [
    "data.name.describe() # Описание столбца с именами"
   ],
   "metadata": {
    "collapsed": false,
    "ExecuteTime": {
     "end_time": "2024-03-15T13:14:06.442358300Z",
     "start_time": "2024-03-15T13:14:06.039062700Z"
    }
   },
   "id": "4e4e8c756b8782ce"
  },
  {
   "cell_type": "markdown",
   "source": [
    "№ 2.2.6\n",
    "Выберите индивидуальные данные или срезы фрейма данных."
   ],
   "metadata": {
    "collapsed": false
   },
   "id": "864ab017a7f544f3"
  },
  {
   "cell_type": "code",
   "execution_count": 14,
   "outputs": [
    {
     "data": {
      "text/plain": "0      Emily\n1     Hannah\n2    Madison\n3     Ashley\nName: name, dtype: object"
     },
     "execution_count": 14,
     "metadata": {},
     "output_type": "execute_result"
    }
   ],
   "source": [
    "data.iloc[0:4, 1] # Срез первых 4-х имен"
   ],
   "metadata": {
    "collapsed": false,
    "ExecuteTime": {
     "end_time": "2024-03-15T13:14:06.506412Z",
     "start_time": "2024-03-15T13:14:06.244314Z"
    }
   },
   "id": "59cd6e8544577080"
  },
  {
   "cell_type": "markdown",
   "source": [
    "№2.2.7\n",
    "Требуется отобрать строки фрейма данных на основе некоторого\n",
    "условия."
   ],
   "metadata": {
    "collapsed": false
   },
   "id": "dbfc1b98feb541f8"
  },
  {
   "cell_type": "code",
   "execution_count": 15,
   "outputs": [
    {
     "data": {
      "text/plain": "        year     name gender  count\n545439  2016     Noah      M  19117\n545440  2016     Liam      M  18218\n545441  2016  William      M  15761\n545442  2016    Mason      M  15244\n545443  2016    James      M  14862",
      "text/html": "<div>\n<style scoped>\n    .dataframe tbody tr th:only-of-type {\n        vertical-align: middle;\n    }\n\n    .dataframe tbody tr th {\n        vertical-align: top;\n    }\n\n    .dataframe thead th {\n        text-align: right;\n    }\n</style>\n<table border=\"1\" class=\"dataframe\">\n  <thead>\n    <tr style=\"text-align: right;\">\n      <th></th>\n      <th>year</th>\n      <th>name</th>\n      <th>gender</th>\n      <th>count</th>\n    </tr>\n  </thead>\n  <tbody>\n    <tr>\n      <th>545439</th>\n      <td>2016</td>\n      <td>Noah</td>\n      <td>M</td>\n      <td>19117</td>\n    </tr>\n    <tr>\n      <th>545440</th>\n      <td>2016</td>\n      <td>Liam</td>\n      <td>M</td>\n      <td>18218</td>\n    </tr>\n    <tr>\n      <th>545441</th>\n      <td>2016</td>\n      <td>William</td>\n      <td>M</td>\n      <td>15761</td>\n    </tr>\n    <tr>\n      <th>545442</th>\n      <td>2016</td>\n      <td>Mason</td>\n      <td>M</td>\n      <td>15244</td>\n    </tr>\n    <tr>\n      <th>545443</th>\n      <td>2016</td>\n      <td>James</td>\n      <td>M</td>\n      <td>14862</td>\n    </tr>\n  </tbody>\n</table>\n</div>"
     },
     "execution_count": 15,
     "metadata": {},
     "output_type": "execute_result"
    }
   ],
   "source": [
    "# Условие - мужские имена, родившихся в 2016 году\n",
    "masks = [data['year'] == 2016, data['gender'] == 'M']\n",
    "male_names_2016 = data[masks[0] & masks[1]]\n",
    "male_names_2016.head(5)"
   ],
   "metadata": {
    "collapsed": false,
    "ExecuteTime": {
     "end_time": "2024-03-15T13:14:06.509517300Z",
     "start_time": "2024-03-15T13:14:06.258211Z"
    }
   },
   "id": "5fdbcc90df98df55"
  },
  {
   "cell_type": "markdown",
   "source": [
    "Загрузить фрейм данных по ссылке:\n",
    "https://raw.githubusercontent.com/akmand/datasets/master/iris.csv.\n",
    "Необходимо выполнить нормализацию первого числового признака\n",
    "(sepal_length_cm) с использованием минимаксного преобразования, а\n",
    "второго (sepal_width_cm) с задействованием z-масштабирования."
   ],
   "metadata": {
    "collapsed": false
   },
   "id": "8d79cbb67eff41bd"
  },
  {
   "cell_type": "code",
   "execution_count": 16,
   "outputs": [
    {
     "data": {
      "text/plain": "   sepal_length_cm  sepal_width_cm  petal_length_cm  petal_width_cm species\n0              5.1             3.5              1.4             0.2  setosa\n1              4.9             3.0              1.4             0.2  setosa\n2              4.7             3.2              1.3             0.2  setosa\n3              4.6             3.1              1.5             0.2  setosa\n4              5.0             3.6              1.4             0.2  setosa",
      "text/html": "<div>\n<style scoped>\n    .dataframe tbody tr th:only-of-type {\n        vertical-align: middle;\n    }\n\n    .dataframe tbody tr th {\n        vertical-align: top;\n    }\n\n    .dataframe thead th {\n        text-align: right;\n    }\n</style>\n<table border=\"1\" class=\"dataframe\">\n  <thead>\n    <tr style=\"text-align: right;\">\n      <th></th>\n      <th>sepal_length_cm</th>\n      <th>sepal_width_cm</th>\n      <th>petal_length_cm</th>\n      <th>petal_width_cm</th>\n      <th>species</th>\n    </tr>\n  </thead>\n  <tbody>\n    <tr>\n      <th>0</th>\n      <td>5.1</td>\n      <td>3.5</td>\n      <td>1.4</td>\n      <td>0.2</td>\n      <td>setosa</td>\n    </tr>\n    <tr>\n      <th>1</th>\n      <td>4.9</td>\n      <td>3.0</td>\n      <td>1.4</td>\n      <td>0.2</td>\n      <td>setosa</td>\n    </tr>\n    <tr>\n      <th>2</th>\n      <td>4.7</td>\n      <td>3.2</td>\n      <td>1.3</td>\n      <td>0.2</td>\n      <td>setosa</td>\n    </tr>\n    <tr>\n      <th>3</th>\n      <td>4.6</td>\n      <td>3.1</td>\n      <td>1.5</td>\n      <td>0.2</td>\n      <td>setosa</td>\n    </tr>\n    <tr>\n      <th>4</th>\n      <td>5.0</td>\n      <td>3.6</td>\n      <td>1.4</td>\n      <td>0.2</td>\n      <td>setosa</td>\n    </tr>\n  </tbody>\n</table>\n</div>"
     },
     "execution_count": 16,
     "metadata": {},
     "output_type": "execute_result"
    }
   ],
   "source": [
    "from sklearn import preprocessing\n",
    "data = pd.read_csv('https://raw.githubusercontent.com/akmand/datasets/master/iris.csv')\n",
    "data.head(5)"
   ],
   "metadata": {
    "collapsed": false,
    "ExecuteTime": {
     "end_time": "2024-03-15T13:14:07.746840100Z",
     "start_time": "2024-03-15T13:14:06.346726200Z"
    }
   },
   "id": "277974cf07139a58"
  },
  {
   "cell_type": "code",
   "execution_count": 17,
   "outputs": [
    {
     "data": {
      "text/plain": "     sepal_length_cm  sepal_width_cm  petal_length_cm  petal_width_cm  \\\n0           0.222222        1.032057              1.4             0.2   \n1           0.166667       -0.124958              1.4             0.2   \n2           0.111111        0.337848              1.3             0.2   \n3           0.083333        0.106445              1.5             0.2   \n4           0.194444        1.263460              1.4             0.2   \n..               ...             ...              ...             ...   \n145         0.666667       -0.124958              5.2             2.3   \n146         0.555556       -1.281972              5.0             1.9   \n147         0.611111       -0.124958              5.2             2.0   \n148         0.527778        0.800654              5.4             2.3   \n149         0.444444       -0.124958              5.1             1.8   \n\n       species  \n0       setosa  \n1       setosa  \n2       setosa  \n3       setosa  \n4       setosa  \n..         ...  \n145  virginica  \n146  virginica  \n147  virginica  \n148  virginica  \n149  virginica  \n\n[150 rows x 5 columns]",
      "text/html": "<div>\n<style scoped>\n    .dataframe tbody tr th:only-of-type {\n        vertical-align: middle;\n    }\n\n    .dataframe tbody tr th {\n        vertical-align: top;\n    }\n\n    .dataframe thead th {\n        text-align: right;\n    }\n</style>\n<table border=\"1\" class=\"dataframe\">\n  <thead>\n    <tr style=\"text-align: right;\">\n      <th></th>\n      <th>sepal_length_cm</th>\n      <th>sepal_width_cm</th>\n      <th>petal_length_cm</th>\n      <th>petal_width_cm</th>\n      <th>species</th>\n    </tr>\n  </thead>\n  <tbody>\n    <tr>\n      <th>0</th>\n      <td>0.222222</td>\n      <td>1.032057</td>\n      <td>1.4</td>\n      <td>0.2</td>\n      <td>setosa</td>\n    </tr>\n    <tr>\n      <th>1</th>\n      <td>0.166667</td>\n      <td>-0.124958</td>\n      <td>1.4</td>\n      <td>0.2</td>\n      <td>setosa</td>\n    </tr>\n    <tr>\n      <th>2</th>\n      <td>0.111111</td>\n      <td>0.337848</td>\n      <td>1.3</td>\n      <td>0.2</td>\n      <td>setosa</td>\n    </tr>\n    <tr>\n      <th>3</th>\n      <td>0.083333</td>\n      <td>0.106445</td>\n      <td>1.5</td>\n      <td>0.2</td>\n      <td>setosa</td>\n    </tr>\n    <tr>\n      <th>4</th>\n      <td>0.194444</td>\n      <td>1.263460</td>\n      <td>1.4</td>\n      <td>0.2</td>\n      <td>setosa</td>\n    </tr>\n    <tr>\n      <th>...</th>\n      <td>...</td>\n      <td>...</td>\n      <td>...</td>\n      <td>...</td>\n      <td>...</td>\n    </tr>\n    <tr>\n      <th>145</th>\n      <td>0.666667</td>\n      <td>-0.124958</td>\n      <td>5.2</td>\n      <td>2.3</td>\n      <td>virginica</td>\n    </tr>\n    <tr>\n      <th>146</th>\n      <td>0.555556</td>\n      <td>-1.281972</td>\n      <td>5.0</td>\n      <td>1.9</td>\n      <td>virginica</td>\n    </tr>\n    <tr>\n      <th>147</th>\n      <td>0.611111</td>\n      <td>-0.124958</td>\n      <td>5.2</td>\n      <td>2.0</td>\n      <td>virginica</td>\n    </tr>\n    <tr>\n      <th>148</th>\n      <td>0.527778</td>\n      <td>0.800654</td>\n      <td>5.4</td>\n      <td>2.3</td>\n      <td>virginica</td>\n    </tr>\n    <tr>\n      <th>149</th>\n      <td>0.444444</td>\n      <td>-0.124958</td>\n      <td>5.1</td>\n      <td>1.8</td>\n      <td>virginica</td>\n    </tr>\n  </tbody>\n</table>\n<p>150 rows × 5 columns</p>\n</div>"
     },
     "execution_count": 17,
     "metadata": {},
     "output_type": "execute_result"
    }
   ],
   "source": [
    "min_max_scaler = preprocessing.MinMaxScaler(feature_range=(0, 1))\n",
    "data[[\"sepal_length_cm\"]] = min_max_scaler.fit_transform(data[[\"sepal_length_cm\"]])\n",
    "std_scaler = preprocessing.StandardScaler()\n",
    "data[[\"sepal_width_cm\"]] = std_scaler.fit_transform(data[[\"sepal_width_cm\"]])\n",
    "data"
   ],
   "metadata": {
    "collapsed": false,
    "ExecuteTime": {
     "end_time": "2024-03-15T13:14:07.794339200Z",
     "start_time": "2024-03-15T13:14:07.742838200Z"
    }
   },
   "id": "7ee0b0b498d03608"
  }
 ],
 "metadata": {
  "kernelspec": {
   "display_name": "Python 3",
   "language": "python",
   "name": "python3"
  },
  "language_info": {
   "codemirror_mode": {
    "name": "ipython",
    "version": 2
   },
   "file_extension": ".py",
   "mimetype": "text/x-python",
   "name": "python",
   "nbconvert_exporter": "python",
   "pygments_lexer": "ipython2",
   "version": "2.7.6"
  }
 },
 "nbformat": 4,
 "nbformat_minor": 5
}
