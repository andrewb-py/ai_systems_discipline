{
 "cells": [
  {
   "cell_type": "code",
   "execution_count": 45,
   "outputs": [],
   "source": [
    "from math import e"
   ],
   "metadata": {
    "collapsed": false,
    "ExecuteTime": {
     "end_time": "2024-03-26T13:04:01.454543500Z",
     "start_time": "2024-03-26T13:04:01.365217400Z"
    }
   },
   "id": "7b0d5faa70eab136"
  },
  {
   "cell_type": "markdown",
   "source": [
    "Выполните реализацию генетического алгоритма в соответствии с приложенными начальными данными.  \n",
    "\n",
    "Z = $\\frac {x - 3y - 2} {x^2 + y^2 + 1}$\n",
    "x = -1 0 2 3\n",
    "y = -2 1 0 -1"
   ],
   "metadata": {
    "collapsed": false
   },
   "id": "115e22267699fd5e"
  },
  {
   "cell_type": "code",
   "execution_count": 46,
   "outputs": [],
   "source": [
    "def qZ(x, y):\n",
    "    return (x - 3 * y - 2) / (x ** 2 + y ** 2 + 1)"
   ],
   "metadata": {
    "collapsed": false,
    "ExecuteTime": {
     "end_time": "2024-03-26T13:04:01.665872300Z",
     "start_time": "2024-03-26T13:04:01.380851Z"
    }
   },
   "id": "initial_id"
  },
  {
   "cell_type": "code",
   "execution_count": 47,
   "outputs": [],
   "source": [
    "def qSumZ(Z):\n",
    "    return sum(Z)"
   ],
   "metadata": {
    "collapsed": false,
    "ExecuteTime": {
     "end_time": "2024-03-26T13:04:01.697131500Z",
     "start_time": "2024-03-26T13:04:01.413849600Z"
    }
   },
   "id": "cd184e6663067ba7"
  },
  {
   "cell_type": "code",
   "execution_count": 48,
   "outputs": [],
   "source": [
    "def exchangeScheme(oldX, oldY, sortedId):\n",
    "    X = [0 for _ in range(4)]\n",
    "    Y = [0 for _ in range(4)]\n",
    "\n",
    "    X[2] = oldX[sortedId[2]]\n",
    "    X[3] = oldX[sortedId[2]]\n",
    "    X[0] = oldX[sortedId[0]]\n",
    "    X[1] = oldX[sortedId[1]]\n",
    "\n",
    "    Y[0] = oldY[sortedId[2]]\n",
    "    Y[1] = oldY[sortedId[2]]\n",
    "    Y[2] = oldY[sortedId[0]]\n",
    "    Y[3] = oldY[sortedId[1]]\n",
    "\n",
    "    return X, Y"
   ],
   "metadata": {
    "collapsed": false,
    "ExecuteTime": {
     "end_time": "2024-03-26T13:04:01.697131500Z",
     "start_time": "2024-03-26T13:04:01.413849600Z"
    }
   },
   "id": "dc3ef4ad33431ab4"
  },
  {
   "cell_type": "code",
   "execution_count": 49,
   "outputs": [],
   "source": [
    "def sorting(Z):\n",
    "    sortedId = sorted(range(len(Z)), key=lambda x: Z[x])\n",
    "    return sortedId"
   ],
   "metadata": {
    "collapsed": false,
    "ExecuteTime": {
     "end_time": "2024-03-26T13:04:01.697131500Z",
     "start_time": "2024-03-26T13:04:01.439452500Z"
    }
   },
   "id": "f42fb390343bd182"
  },
  {
   "cell_type": "code",
   "execution_count": 50,
   "outputs": [],
   "source": [
    "def evoStep(X, Y, Z):\n",
    "    _, minId = min((value, id) for id, value in enumerate(Z))\n",
    "    X = X[:]\n",
    "    Y = Y[:]\n",
    "    Z = Z[:]\n",
    "    X.pop(minId)\n",
    "    Y.pop(minId)\n",
    "    Z.pop(minId)\n",
    "    return X, Y, Z"
   ],
   "metadata": {
    "collapsed": false,
    "ExecuteTime": {
     "end_time": "2024-03-26T13:04:01.697131500Z",
     "start_time": "2024-03-26T13:04:01.439452500Z"
    }
   },
   "id": "ab5b6d7814a611b8"
  },
  {
   "cell_type": "code",
   "execution_count": 51,
   "outputs": [],
   "source": [
    "def evoSteps(X, Y, stepsNum=4):\n",
    "    results = []\n",
    "\n",
    "    for i in range(4):\n",
    "        arrZ = [qZ(x, Y[i]) for i, x in enumerate(X)]\n",
    "        X, Y, Z = evoStep(X, Y, arrZ)\n",
    "        X, Y = exchangeScheme(X, Y, sorting(Z))\n",
    "        results.append([X, Y, qSumZ(arrZ), arrZ])\n",
    "\n",
    "    return X, Y, results"
   ],
   "metadata": {
    "collapsed": false,
    "ExecuteTime": {
     "end_time": "2024-03-26T13:04:01.697131500Z",
     "start_time": "2024-03-26T13:04:01.455055200Z"
    }
   },
   "id": "cbfe53fcae4beb32"
  },
  {
   "cell_type": "code",
   "execution_count": 52,
   "outputs": [],
   "source": [
    "X = [-1, 0, 2, 3]\n",
    "Y = [-2, 1, 0, -1]"
   ],
   "metadata": {
    "collapsed": false,
    "ExecuteTime": {
     "end_time": "2024-03-26T13:04:01.697131500Z",
     "start_time": "2024-03-26T13:04:01.469165500Z"
    }
   },
   "id": "7f5947a941eba921"
  },
  {
   "cell_type": "code",
   "execution_count": 53,
   "outputs": [],
   "source": [
    "results = evoSteps(X, Y)"
   ],
   "metadata": {
    "collapsed": false,
    "ExecuteTime": {
     "end_time": "2024-03-26T13:04:01.697131500Z",
     "start_time": "2024-03-26T13:04:01.479019Z"
    }
   },
   "id": "5153e8f0302f9935"
  },
  {
   "cell_type": "code",
   "execution_count": 54,
   "outputs": [
    {
     "name": "stdout",
     "output_type": "stream",
     "text": [
      "max_1_step: -1.64\n",
      "max_2_step: -0.33\n",
      "max_3_step: 2.17\n",
      "max_4_step: 2.33\n",
      "max_Z: 0.67\n"
     ]
    }
   ],
   "source": [
    "for i in range(len(results[2])):\n",
    "    print(f\"max_{i + 1}_step: {round(results[2][i][2], 2)}\")\n",
    "qualityArrZ = []\n",
    "for i in range(len(results[2])):\n",
    "    qualityArrZ += results[2][i][3]\n",
    "print(f\"max_Z: {round(max(qualityArrZ), 2)}\")"
   ],
   "metadata": {
    "collapsed": false,
    "ExecuteTime": {
     "end_time": "2024-03-26T13:04:01.697131500Z",
     "start_time": "2024-03-26T13:04:01.487956100Z"
    }
   },
   "id": "562697943de58156"
  },
  {
   "cell_type": "markdown",
   "source": [
    "Задание: найти длину гамильтонова цикла S4 в полном графе K6 после четырех\n",
    "циклов решения задачи методом отжига по вариантам ниже.\n",
    "Вариант 3."
   ],
   "metadata": {
    "collapsed": false
   },
   "id": "3207f56b64ea492d"
  },
  {
   "cell_type": "code",
   "execution_count": 55,
   "outputs": [],
   "source": [
    "distances = [(1, 2, 23), (1, 3, 42), (1, 4, 40),\n",
    "             (1, 5, 25), (1, 6, 22), (2, 3, 20),\n",
    "             (2, 4, 30), (2, 5, 34), (2, 6, 13),\n",
    "             (3, 4, 22), (3, 5, 41), (3, 6, 21),\n",
    "             (4, 5, 26), (4, 6, 19), (5, 6, 22)]\n",
    "V = [1, 3, 4, 5, 6, 2, 1]\n",
    "Z = [(4, 5), (5, 6), (2, 4), (6, 2)]\n",
    "P = [78, 24, 63, 17]\n",
    "T = 100"
   ],
   "metadata": {
    "collapsed": false,
    "ExecuteTime": {
     "end_time": "2024-03-26T13:04:01.697131500Z",
     "start_time": "2024-03-26T13:04:01.514042700Z"
    }
   },
   "id": "bf4335993ea618d3"
  },
  {
   "cell_type": "code",
   "execution_count": 56,
   "outputs": [],
   "source": [
    "def probability(delta, T):\n",
    "    return 100 * e ** (-delta / T)"
   ],
   "metadata": {
    "collapsed": false,
    "ExecuteTime": {
     "end_time": "2024-03-26T13:04:01.697131500Z",
     "start_time": "2024-03-26T13:04:01.522749200Z"
    }
   },
   "id": "8a36cc660b50ee8c"
  },
  {
   "cell_type": "code",
   "execution_count": 57,
   "outputs": [],
   "source": [
    "def reductTemp(prevT):\n",
    "    nextT = 0.5 * prevT\n",
    "    return nextT"
   ],
   "metadata": {
    "collapsed": false,
    "ExecuteTime": {
     "end_time": "2024-03-26T13:04:01.697131500Z",
     "start_time": "2024-03-26T13:04:01.531535800Z"
    }
   },
   "id": "a8adf03c24ac9dff"
  },
  {
   "cell_type": "code",
   "execution_count": 58,
   "outputs": [],
   "source": [
    "def edgeLength(i, j, distances, roundTrip=True):\n",
    "    if roundTrip:\n",
    "        return max([(item[2] if (item[0] == i and item[1] == j) or (item[1] == i and item[0] == j) else -1)\n",
    "                    for item in distances])\n",
    "    else:\n",
    "        return max([(item[2] if (item[0] == i and item[1] == j) else -1) for item in distances])"
   ],
   "metadata": {
    "collapsed": false,
    "ExecuteTime": {
     "end_time": "2024-03-26T13:04:01.697131500Z",
     "start_time": "2024-03-26T13:04:01.532044700Z"
    }
   },
   "id": "f0746653405102c7"
  },
  {
   "cell_type": "code",
   "execution_count": 59,
   "outputs": [],
   "source": [
    "def routeLength(V, distances):\n",
    "    edges = []\n",
    "    for i in range(len(V) - 1):\n",
    "        edges.append(edgeLength(V[i], V[i + 1], distances))\n",
    "    return sum(edges)"
   ],
   "metadata": {
    "collapsed": false,
    "ExecuteTime": {
     "end_time": "2024-03-26T13:04:01.697131500Z",
     "start_time": "2024-03-26T13:04:01.542978700Z"
    }
   },
   "id": "d23bd7d11a64d233"
  },
  {
   "cell_type": "code",
   "execution_count": 60,
   "outputs": [],
   "source": [
    "def routeOneReplacement(arrV, Z, replacementByName=True):\n",
    "    decrement = 1 if replacementByName else 0\n",
    "    arrV[Z[0] - decrement], arrV[Z[1] - decrement] = arrV[Z[1] - decrement], arrV[Z[0] - decrement]\n",
    "    return arrV"
   ],
   "metadata": {
    "collapsed": false,
    "ExecuteTime": {
     "end_time": "2024-03-26T13:04:01.697131500Z",
     "start_time": "2024-03-26T13:04:01.551780700Z"
    }
   },
   "id": "5a2b3796beb4396f"
  },
  {
   "cell_type": "code",
   "execution_count": 61,
   "outputs": [],
   "source": [
    "def routeReplacement(V, Z):\n",
    "    for z in Z:\n",
    "        V = routeOneReplacement(V, z)\n",
    "    return V"
   ],
   "metadata": {
    "collapsed": false,
    "ExecuteTime": {
     "end_time": "2024-03-26T13:04:01.697131500Z",
     "start_time": "2024-03-26T13:04:01.561289Z"
    }
   },
   "id": "3890350a18d06229"
  },
  {
   "cell_type": "code",
   "execution_count": 62,
   "outputs": [],
   "source": [
    "def chooseRoute(distances, V, Z, T, P):\n",
    "    sumLength = routeLength(V, distances)\n",
    "    arrSum = [sumLength]\n",
    "\n",
    "    for i in range(len(Z)):\n",
    "        newV = routeOneReplacement(V[:], Z[i])\n",
    "        newS = routeLength(newV, distances)\n",
    "        arrSum.append(newS)\n",
    "        deltaS = newS - sumLength\n",
    "\n",
    "        if deltaS > 0:\n",
    "            p = probability(deltaS, T)\n",
    "\n",
    "            if p > P[i]:\n",
    "                V = newV\n",
    "                sumLength = newS\n",
    "        else:\n",
    "            V = newV\n",
    "            sumLength = newS\n",
    "        T = reductTemp(T)\n",
    "\n",
    "    return V, arrSum"
   ],
   "metadata": {
    "collapsed": false,
    "ExecuteTime": {
     "end_time": "2024-03-26T13:04:01.697131500Z",
     "start_time": "2024-03-26T13:04:01.570173700Z"
    }
   },
   "id": "271241efbdd07315"
  },
  {
   "cell_type": "code",
   "execution_count": 63,
   "outputs": [
    {
     "name": "stdout",
     "output_type": "stream",
     "text": [
      "Лучший выбранный маршрут: [1, 5, 4, 3, 2, 6, 1]\n",
      "Длина лучшего выбранного маршрута: 128\n",
      "Длины всех рассмотренных маршрутов: [148, 162, 155, 142, 128]\n"
     ]
    }
   ],
   "source": [
    "\n",
    "bestRoute, arrLength = chooseRoute(distances, V, Z, T, P)\n",
    "\n",
    "print(f'Лучший выбранный маршрут: {bestRoute}')\n",
    "print(f'Длина лучшего выбранного маршрута: {routeLength(bestRoute, distances)}')\n",
    "print(f'Длины всех рассмотренных маршрутов: {arrLength}')"
   ],
   "metadata": {
    "collapsed": false,
    "ExecuteTime": {
     "end_time": "2024-03-26T13:04:01.697131500Z",
     "start_time": "2024-03-26T13:04:01.582704Z"
    }
   },
   "id": "c61d5d7c5513c32b"
  },
  {
   "cell_type": "markdown",
   "source": [
    "Задание: на решенном уже примере поэкспериментируйте с показателем S,\n",
    "проанализируйте результаты."
   ],
   "metadata": {
    "collapsed": false
   },
   "id": "559e5b3ff50ce101"
  },
  {
   "cell_type": "code",
   "execution_count": 116,
   "outputs": [],
   "source": [
    "P = [90, 25, 70, 20]"
   ],
   "metadata": {
    "collapsed": false,
    "ExecuteTime": {
     "end_time": "2024-03-26T13:09:23.241181100Z",
     "start_time": "2024-03-26T13:09:23.225040100Z"
    }
   },
   "id": "60ec7cd5006fd9bc"
  },
  {
   "cell_type": "code",
   "execution_count": 117,
   "outputs": [
    {
     "name": "stdout",
     "output_type": "stream",
     "text": [
      "Лучший выбранный маршрут: [1, 6, 4, 3, 2, 5, 1]\n",
      "Длина лучшего выбранного маршрута: 142\n",
      "Длины всех рассмотренных маршрутов: [148, 162, 159, 128, 142]\n"
     ]
    }
   ],
   "source": [
    "bestRoute, arrLength = chooseRoute(distances, V, Z, T, P)\n",
    "\n",
    "print(f'Лучший выбранный маршрут: {bestRoute}')\n",
    "print(f'Длина лучшего выбранного маршрута: {routeLength(bestRoute, distances)}')\n",
    "print(f'Длины всех рассмотренных маршрутов: {arrLength}')"
   ],
   "metadata": {
    "collapsed": false,
    "ExecuteTime": {
     "end_time": "2024-03-26T13:09:23.392565Z",
     "start_time": "2024-03-26T13:09:23.383682300Z"
    }
   },
   "id": "cbc6a2c9b2e7c980"
  },
  {
   "cell_type": "markdown",
   "source": [
    "При увеличении был пропущен лучший из рассмотренных вариантов"
   ],
   "metadata": {
    "collapsed": false
   },
   "id": "8ef7ed928f5c9216"
  }
 ],
 "metadata": {
  "kernelspec": {
   "display_name": "Python 3",
   "language": "python",
   "name": "python3"
  },
  "language_info": {
   "codemirror_mode": {
    "name": "ipython",
    "version": 2
   },
   "file_extension": ".py",
   "mimetype": "text/x-python",
   "name": "python",
   "nbconvert_exporter": "python",
   "pygments_lexer": "ipython2",
   "version": "2.7.6"
  }
 },
 "nbformat": 4,
 "nbformat_minor": 5
}
